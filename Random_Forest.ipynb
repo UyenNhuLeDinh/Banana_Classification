{
 "cells": [
  {
   "cell_type": "code",
   "execution_count": 2,
   "metadata": {},
   "outputs": [],
   "source": [
    "import pandas as pd\n",
    "import numpy as np\n",
    "import matplotlib.pyplot as plt\n",
    "import seaborn as sns\n",
    "import sklearn\n",
    "from sklearn.ensemble import RandomForestClassifier\n",
    "from sklearn.model_selection import train_test_split, GridSearchCV\n",
    "from sklearn.metrics import accuracy_score\n"
   ]
  },
  {
   "cell_type": "code",
   "execution_count": 3,
   "metadata": {},
   "outputs": [],
   "source": [
    "df = pd.read_csv('train.csv')"
   ]
  },
  {
   "cell_type": "code",
   "execution_count": 4,
   "metadata": {},
   "outputs": [],
   "source": [
    "X = df.drop([\"Quality\", \"Peel Thickness\", \"Banana Density\"], axis=1)\n",
    "y = df['Quality']\n",
    "\n",
    "X_train, X_test, y_train, y_test = train_test_split(X, y, test_size=0.2, random_state=42)"
   ]
  },
  {
   "cell_type": "code",
   "execution_count": 5,
   "metadata": {},
   "outputs": [],
   "source": [
    "rf = RandomForestClassifier(random_state=42)"
   ]
  },
  {
   "cell_type": "code",
   "execution_count": 6,
   "metadata": {},
   "outputs": [],
   "source": [
    "param_dist = {\n",
    "    'n_estimators': [50, 100, 200, 300],\n",
    "    'max_depth': [None, 10, 20, 30],\n",
    "    'min_samples_split': [2, 5, 10],\n",
    "    'min_samples_leaf': [1, 2, 4],\n",
    "    'max_features': ['auto', 'sqrt', 'log2']\n",
    "}"
   ]
  },
  {
   "cell_type": "code",
   "execution_count": 7,
   "metadata": {},
   "outputs": [
    {
     "name": "stderr",
     "output_type": "stream",
     "text": [
      "/Users/dunhul/Library/CloudStorage/OneDrive-NorwegianUniversityofLifeSciences/VÅR 2025/DAT200/CA3_DAT200/.venv/lib/python3.13/site-packages/sklearn/model_selection/_validation.py:528: FitFailedWarning: \n",
      "720 fits failed out of a total of 2160.\n",
      "The score on these train-test partitions for these parameters will be set to nan.\n",
      "If these failures are not expected, you can try to debug them by setting error_score='raise'.\n",
      "\n",
      "Below are more details about the failures:\n",
      "--------------------------------------------------------------------------------\n",
      "718 fits failed with the following error:\n",
      "Traceback (most recent call last):\n",
      "  File \"/Users/dunhul/Library/CloudStorage/OneDrive-NorwegianUniversityofLifeSciences/VÅR 2025/DAT200/CA3_DAT200/.venv/lib/python3.13/site-packages/sklearn/model_selection/_validation.py\", line 866, in _fit_and_score\n",
      "    estimator.fit(X_train, y_train, **fit_params)\n",
      "    ~~~~~~~~~~~~~^^^^^^^^^^^^^^^^^^^^^^^^^^^^^^^^\n",
      "  File \"/Users/dunhul/Library/CloudStorage/OneDrive-NorwegianUniversityofLifeSciences/VÅR 2025/DAT200/CA3_DAT200/.venv/lib/python3.13/site-packages/sklearn/base.py\", line 1382, in wrapper\n",
      "    estimator._validate_params()\n",
      "    ~~~~~~~~~~~~~~~~~~~~~~~~~~^^\n",
      "  File \"/Users/dunhul/Library/CloudStorage/OneDrive-NorwegianUniversityofLifeSciences/VÅR 2025/DAT200/CA3_DAT200/.venv/lib/python3.13/site-packages/sklearn/base.py\", line 436, in _validate_params\n",
      "    validate_parameter_constraints(\n",
      "    ~~~~~~~~~~~~~~~~~~~~~~~~~~~~~~^\n",
      "        self._parameter_constraints,\n",
      "        ^^^^^^^^^^^^^^^^^^^^^^^^^^^^\n",
      "        self.get_params(deep=False),\n",
      "        ^^^^^^^^^^^^^^^^^^^^^^^^^^^^\n",
      "        caller_name=self.__class__.__name__,\n",
      "        ^^^^^^^^^^^^^^^^^^^^^^^^^^^^^^^^^^^^\n",
      "    )\n",
      "    ^\n",
      "  File \"/Users/dunhul/Library/CloudStorage/OneDrive-NorwegianUniversityofLifeSciences/VÅR 2025/DAT200/CA3_DAT200/.venv/lib/python3.13/site-packages/sklearn/utils/_param_validation.py\", line 98, in validate_parameter_constraints\n",
      "    raise InvalidParameterError(\n",
      "    ...<2 lines>...\n",
      "    )\n",
      "sklearn.utils._param_validation.InvalidParameterError: The 'max_features' parameter of RandomForestClassifier must be an int in the range [1, inf), a float in the range (0.0, 1.0], a str among {'log2', 'sqrt'} or None. Got 'auto' instead.\n",
      "\n",
      "--------------------------------------------------------------------------------\n",
      "2 fits failed with the following error:\n",
      "Traceback (most recent call last):\n",
      "  File \"/Users/dunhul/Library/CloudStorage/OneDrive-NorwegianUniversityofLifeSciences/VÅR 2025/DAT200/CA3_DAT200/.venv/lib/python3.13/site-packages/sklearn/model_selection/_validation.py\", line 866, in _fit_and_score\n",
      "    estimator.fit(X_train, y_train, **fit_params)\n",
      "    ~~~~~~~~~~~~~^^^^^^^^^^^^^^^^^^^^^^^^^^^^^^^^\n",
      "  File \"/Users/dunhul/Library/CloudStorage/OneDrive-NorwegianUniversityofLifeSciences/VÅR 2025/DAT200/CA3_DAT200/.venv/lib/python3.13/site-packages/sklearn/base.py\", line 1382, in wrapper\n",
      "    estimator._validate_params()\n",
      "    ~~~~~~~~~~~~~~~~~~~~~~~~~~^^\n",
      "  File \"/Users/dunhul/Library/CloudStorage/OneDrive-NorwegianUniversityofLifeSciences/VÅR 2025/DAT200/CA3_DAT200/.venv/lib/python3.13/site-packages/sklearn/base.py\", line 436, in _validate_params\n",
      "    validate_parameter_constraints(\n",
      "    ~~~~~~~~~~~~~~~~~~~~~~~~~~~~~~^\n",
      "        self._parameter_constraints,\n",
      "        ^^^^^^^^^^^^^^^^^^^^^^^^^^^^\n",
      "        self.get_params(deep=False),\n",
      "        ^^^^^^^^^^^^^^^^^^^^^^^^^^^^\n",
      "        caller_name=self.__class__.__name__,\n",
      "        ^^^^^^^^^^^^^^^^^^^^^^^^^^^^^^^^^^^^\n",
      "    )\n",
      "    ^\n",
      "  File \"/Users/dunhul/Library/CloudStorage/OneDrive-NorwegianUniversityofLifeSciences/VÅR 2025/DAT200/CA3_DAT200/.venv/lib/python3.13/site-packages/sklearn/utils/_param_validation.py\", line 98, in validate_parameter_constraints\n",
      "    raise InvalidParameterError(\n",
      "    ...<2 lines>...\n",
      "    )\n",
      "sklearn.utils._param_validation.InvalidParameterError: The 'max_features' parameter of RandomForestClassifier must be an int in the range [1, inf), a float in the range (0.0, 1.0], a str among {'sqrt', 'log2'} or None. Got 'auto' instead.\n",
      "\n",
      "  warnings.warn(some_fits_failed_message, FitFailedWarning)\n",
      "/Users/dunhul/Library/CloudStorage/OneDrive-NorwegianUniversityofLifeSciences/VÅR 2025/DAT200/CA3_DAT200/.venv/lib/python3.13/site-packages/sklearn/model_selection/_search.py:1108: UserWarning: One or more of the test scores are non-finite: [       nan        nan        nan        nan        nan        nan\n",
      "        nan        nan        nan        nan        nan        nan\n",
      "        nan        nan        nan        nan        nan        nan\n",
      "        nan        nan        nan        nan        nan        nan\n",
      "        nan        nan        nan        nan        nan        nan\n",
      "        nan        nan        nan        nan        nan        nan\n",
      " 0.95446429 0.96071429 0.95848214 0.95848214 0.95357143 0.95803571\n",
      " 0.95714286 0.959375   0.95714286 0.95803571 0.95848214 0.95848214\n",
      " 0.95089286 0.95580357 0.95669643 0.95758929 0.95401786 0.95491071\n",
      " 0.95669643 0.95848214 0.95223214 0.95267857 0.95625    0.95535714\n",
      " 0.95267857 0.95401786 0.95401786 0.95357143 0.95267857 0.95401786\n",
      " 0.95401786 0.95357143 0.94910714 0.95133929 0.95535714 0.95357143\n",
      " 0.95446429 0.96071429 0.95848214 0.95848214 0.95357143 0.95803571\n",
      " 0.95714286 0.959375   0.95714286 0.95803571 0.95848214 0.95848214\n",
      " 0.95089286 0.95580357 0.95669643 0.95758929 0.95401786 0.95491071\n",
      " 0.95669643 0.95848214 0.95223214 0.95267857 0.95625    0.95535714\n",
      " 0.95267857 0.95401786 0.95401786 0.95357143 0.95267857 0.95401786\n",
      " 0.95401786 0.95357143 0.94910714 0.95133929 0.95535714 0.95357143\n",
      "        nan        nan        nan        nan        nan        nan\n",
      "        nan        nan        nan        nan        nan        nan\n",
      "        nan        nan        nan        nan        nan        nan\n",
      "        nan        nan        nan        nan        nan        nan\n",
      "        nan        nan        nan        nan        nan        nan\n",
      "        nan        nan        nan        nan        nan        nan\n",
      " 0.95625    0.95401786 0.95535714 0.95535714 0.95223214 0.95401786\n",
      " 0.95580357 0.95580357 0.95133929 0.95044643 0.95223214 0.95491071\n",
      " 0.95133929 0.95267857 0.95535714 0.95446429 0.95       0.95401786\n",
      " 0.95535714 0.95535714 0.94776786 0.94910714 0.95267857 0.95357143\n",
      " 0.946875   0.94955357 0.95357143 0.95223214 0.946875   0.94955357\n",
      " 0.95357143 0.95223214 0.95044643 0.94866071 0.95223214 0.95267857\n",
      " 0.95625    0.95401786 0.95535714 0.95535714 0.95223214 0.95401786\n",
      " 0.95580357 0.95580357 0.95133929 0.95044643 0.95223214 0.95491071\n",
      " 0.95133929 0.95267857 0.95535714 0.95446429 0.95       0.95401786\n",
      " 0.95535714 0.95535714 0.94776786 0.94910714 0.95267857 0.95357143\n",
      " 0.946875   0.94955357 0.95357143 0.95223214 0.946875   0.94955357\n",
      " 0.95357143 0.95223214 0.95044643 0.94866071 0.95223214 0.95267857\n",
      "        nan        nan        nan        nan        nan        nan\n",
      "        nan        nan        nan        nan        nan        nan\n",
      "        nan        nan        nan        nan        nan        nan\n",
      "        nan        nan        nan        nan        nan        nan\n",
      "        nan        nan        nan        nan        nan        nan\n",
      "        nan        nan        nan        nan        nan        nan\n",
      " 0.95446429 0.96071429 0.95848214 0.95803571 0.95357143 0.95803571\n",
      " 0.95714286 0.959375   0.95714286 0.95803571 0.95848214 0.95848214\n",
      " 0.95089286 0.95580357 0.95669643 0.95758929 0.95401786 0.95491071\n",
      " 0.95669643 0.95848214 0.95223214 0.95267857 0.95625    0.95535714\n",
      " 0.95267857 0.95401786 0.95401786 0.95357143 0.95267857 0.95401786\n",
      " 0.95401786 0.95357143 0.94910714 0.95133929 0.95535714 0.95357143\n",
      " 0.95446429 0.96071429 0.95848214 0.95803571 0.95357143 0.95803571\n",
      " 0.95714286 0.959375   0.95714286 0.95803571 0.95848214 0.95848214\n",
      " 0.95089286 0.95580357 0.95669643 0.95758929 0.95401786 0.95491071\n",
      " 0.95669643 0.95848214 0.95223214 0.95267857 0.95625    0.95535714\n",
      " 0.95267857 0.95401786 0.95401786 0.95357143 0.95267857 0.95401786\n",
      " 0.95401786 0.95357143 0.94910714 0.95133929 0.95535714 0.95357143\n",
      "        nan        nan        nan        nan        nan        nan\n",
      "        nan        nan        nan        nan        nan        nan\n",
      "        nan        nan        nan        nan        nan        nan\n",
      "        nan        nan        nan        nan        nan        nan\n",
      "        nan        nan        nan        nan        nan        nan\n",
      "        nan        nan        nan        nan        nan        nan\n",
      " 0.95446429 0.96071429 0.95848214 0.95848214 0.95357143 0.95803571\n",
      " 0.95714286 0.959375   0.95714286 0.95803571 0.95848214 0.95848214\n",
      " 0.95089286 0.95580357 0.95669643 0.95758929 0.95401786 0.95491071\n",
      " 0.95669643 0.95848214 0.95223214 0.95267857 0.95625    0.95535714\n",
      " 0.95267857 0.95401786 0.95401786 0.95357143 0.95267857 0.95401786\n",
      " 0.95401786 0.95357143 0.94910714 0.95133929 0.95535714 0.95357143\n",
      " 0.95446429 0.96071429 0.95848214 0.95848214 0.95357143 0.95803571\n",
      " 0.95714286 0.959375   0.95714286 0.95803571 0.95848214 0.95848214\n",
      " 0.95089286 0.95580357 0.95669643 0.95758929 0.95401786 0.95491071\n",
      " 0.95669643 0.95848214 0.95223214 0.95267857 0.95625    0.95535714\n",
      " 0.95267857 0.95401786 0.95401786 0.95357143 0.95267857 0.95401786\n",
      " 0.95401786 0.95357143 0.94910714 0.95133929 0.95535714 0.95357143]\n",
      "  warnings.warn(\n"
     ]
    },
    {
     "name": "stdout",
     "output_type": "stream",
     "text": [
      "Best Hyperparameters: {'max_depth': None, 'max_features': 'sqrt', 'min_samples_leaf': 1, 'min_samples_split': 2, 'n_estimators': 100}\n"
     ]
    }
   ],
   "source": [
    "# Perform RandomizedSearchCV\n",
    "random_search = GridSearchCV(rf, param_dist, cv=5, scoring='accuracy', n_jobs=-1)\n",
    "random_search.fit(X_train, y_train)\n",
    "\n",
    "# Get the best hyperparameters\n",
    "best_params = random_search.best_params_\n",
    "print(\"Best Hyperparameters:\", best_params)"
   ]
  },
  {
   "cell_type": "code",
   "execution_count": 8,
   "metadata": {},
   "outputs": [
    {
     "name": "stdout",
     "output_type": "stream",
     "text": [
      "Accuracy with Best Hyperparameters: 0.9625\n"
     ]
    }
   ],
   "source": [
    "# Train with best parameters\n",
    "best_rf = RandomForestClassifier(**best_params, random_state=1)\n",
    "best_rf.fit(X_train, y_train)\n",
    "\n",
    "# Evaluate the model\n",
    "y_pred = best_rf.predict(X_test)\n",
    "accuracy = accuracy_score(y_test, y_pred)\n",
    "print(\"Accuracy with Best Hyperparameters:\", accuracy)"
   ]
  },
  {
   "cell_type": "code",
   "execution_count": 12,
   "metadata": {},
   "outputs": [],
   "source": [
    "df_test = pd.read_csv('test.csv')\n",
    "df_test = df_test.drop([\"Peel Thickness\", \"Banana Density\"], axis=1)"
   ]
  },
  {
   "cell_type": "code",
   "execution_count": 13,
   "metadata": {},
   "outputs": [],
   "source": [
    "y_test = best_rf.predict(df_test)\n",
    "y_test = pd.DataFrame(y_test, columns=[\"Quality\"])\n",
    "y_test.index.name = \"ID\"\n",
    "y_test[['Quality']].to_csv(\"submission1.csv\")"
   ]
  },
  {
   "cell_type": "code",
   "execution_count": null,
   "metadata": {},
   "outputs": [],
   "source": []
  }
 ],
 "metadata": {
  "kernelspec": {
   "display_name": ".venv",
   "language": "python",
   "name": "python3"
  },
  "language_info": {
   "codemirror_mode": {
    "name": "ipython",
    "version": 3
   },
   "file_extension": ".py",
   "mimetype": "text/x-python",
   "name": "python",
   "nbconvert_exporter": "python",
   "pygments_lexer": "ipython3",
   "version": "3.13.0rc2"
  }
 },
 "nbformat": 4,
 "nbformat_minor": 2
}
